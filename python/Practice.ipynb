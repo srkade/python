{
 "cells": [
  {
   "cell_type": "code",
   "execution_count": 1,
   "metadata": {},
   "outputs": [
    {
     "name": "stdout",
     "output_type": "stream",
     "text": [
      "print the content that you are wanna print on screen\n"
     ]
    }
   ],
   "source": [
    "# basics \n",
    "# The print function is used to display or print output as follows\n",
    "\n",
    "print(\"print the content that you are wanna print on screen\")"
   ]
  },
  {
   "cell_type": "code",
   "execution_count": 2,
   "metadata": {},
   "outputs": [
    {
     "name": "stdout",
     "output_type": "stream",
     "text": [
      "Hi my name is :  Shruti\n"
     ]
    }
   ],
   "source": [
    "# we can display the content present in object using print function as follows\n",
    "var1= \"Shruti\"\n",
    "print(\"Hi my name is : \",var1)"
   ]
  },
  {
   "cell_type": "code",
   "execution_count": 2,
   "metadata": {},
   "outputs": [],
   "source": [
    "# Taking input from the user \n",
    "# the input function is used to take input as String or character from the user\n",
    "\n",
    "var2=input(\"Enter Your Name: \")\n",
    "print(\"My Name is : \",var2)"
   ]
  }
 ],
 "metadata": {
  "kernelspec": {
   "display_name": "Python 3",
   "language": "python",
   "name": "python3"
  },
  "language_info": {
   "codemirror_mode": {
    "name": "ipython",
    "version": 3
   },
   "file_extension": ".py",
   "mimetype": "text/x-python",
   "name": "python",
   "nbconvert_exporter": "python",
   "pygments_lexer": "ipython3",
   "version": "3.12.5"
  }
 },
 "nbformat": 4,
 "nbformat_minor": 2
}
